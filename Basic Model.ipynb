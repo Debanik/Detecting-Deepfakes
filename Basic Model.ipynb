{
 "cells": [
  {
   "cell_type": "code",
   "execution_count": 3,
   "metadata": {
    "scrolled": true
   },
   "outputs": [],
   "source": [
    "import tensorflow as tf\n",
    "import PIL\n",
    "import os\n",
    "import numpy as np\n",
    "import pandas as pd\n",
    "import extract_faces_keep_in_mem\n",
    "from search_videos_in_directory import search_videos\n",
    "from tensorflow.keras.preprocessing.image import ImageDataGenerator"
   ]
  },
  {
   "cell_type": "code",
   "execution_count": 5,
   "metadata": {},
   "outputs": [
    {
     "name": "stdout",
     "output_type": "stream",
     "text": [
      "Enter the absolute path of the input directory: /home/debanik/downloaded_videos\n",
      "Enter the absolute path of the output directory: /home/debanik/PycharmProjects/Detecting-Deepfakes/temp\n"
     ]
    },
    {
     "ename": "TypeError",
     "evalue": "search_videos() takes from 0 to 1 positional arguments but 2 were given",
     "output_type": "error",
     "traceback": [
      "\u001b[0;31m---------------------------------------------------------------------------\u001b[0m",
      "\u001b[0;31mTypeError\u001b[0m                                 Traceback (most recent call last)",
      "\u001b[0;32m<ipython-input-5-e12b613f620e>\u001b[0m in \u001b[0;36m<module>\u001b[0;34m\u001b[0m\n\u001b[1;32m      5\u001b[0m \u001b[0;32mexcept\u001b[0m \u001b[0mFileExistsError\u001b[0m\u001b[0;34m:\u001b[0m\u001b[0;34m\u001b[0m\u001b[0;34m\u001b[0m\u001b[0m\n\u001b[1;32m      6\u001b[0m     \u001b[0;32mpass\u001b[0m\u001b[0;34m\u001b[0m\u001b[0;34m\u001b[0m\u001b[0m\n\u001b[0;32m----> 7\u001b[0;31m \u001b[0msearch_videos\u001b[0m\u001b[0;34m(\u001b[0m\u001b[0minput_direc\u001b[0m\u001b[0;34m,\u001b[0m \u001b[0moutput_direc\u001b[0m\u001b[0;34m)\u001b[0m\u001b[0;34m\u001b[0m\u001b[0;34m\u001b[0m\u001b[0m\n\u001b[0m",
      "\u001b[0;31mTypeError\u001b[0m: search_videos() takes from 0 to 1 positional arguments but 2 were given"
     ]
    }
   ],
   "source": [
    "input_direc = input(\"Enter the absolute path of the input directory: \")\n",
    "output_direc = input(\"Enter the absolute path of the output directory: \")\n",
    "try:\n",
    "    os.mkdir(output_direc)\n",
    "except FileExistsError:\n",
    "    pass\n",
    "search_videos(input_direc, output_direc)"
   ]
  },
  {
   "cell_type": "code",
   "execution_count": 2,
   "metadata": {},
   "outputs": [],
   "source": [
    "#input_direc = '/home/debanik/downloaded_videos'\n",
    "#output_direc = '/home/debanik/PycharmProjects/Detecting-Deepfakes/temp'"
   ]
  },
  {
   "cell_type": "code",
   "execution_count": 3,
   "metadata": {},
   "outputs": [
    {
     "name": "stdout",
     "output_type": "stream",
     "text": [
      "Found 9 images belonging to 2 classes.\n",
      "Batch shape=(9, 256, 256, 3), min=0.000, max=255.000\n"
     ]
    }
   ],
   "source": [
    "# create generator\n",
    "datagen = ImageDataGenerator(featurewise_center=True, \n",
    "                             featurewise_std_normalization=True, \n",
    "                             rotation_range=10, \n",
    "                             horizontal_flip = True, \n",
    "                             validation_split=0.2)\n",
    "# prepare an iterators for each dataset\n",
    "train_it = datagen.flow_from_directory(output_direc, class_mode='binary', batch_size=64)\n",
    "# confirm the iterator works\n",
    "batchX, batchy = train_it.next()\n",
    "print('Batch shape=%s, min=%.3f, max=%.3f' % (batchX.shape, batchX.min(), batchX.max()))"
   ]
  }
 ],
 "metadata": {
  "kernelspec": {
   "display_name": "Python 3",
   "language": "python",
   "name": "python3"
  },
  "language_info": {
   "codemirror_mode": {
    "name": "ipython",
    "version": 3
   },
   "file_extension": ".py",
   "mimetype": "text/x-python",
   "name": "python",
   "nbconvert_exporter": "python",
   "pygments_lexer": "ipython3",
   "version": "3.6.8"
  }
 },
 "nbformat": 4,
 "nbformat_minor": 2
}
